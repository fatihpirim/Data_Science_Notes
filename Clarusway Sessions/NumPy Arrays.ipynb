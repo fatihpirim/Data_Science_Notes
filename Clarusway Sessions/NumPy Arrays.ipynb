{
 "cells": [
  {
   "cell_type": "code",
   "execution_count": 2,
   "metadata": {},
   "outputs": [],
   "source": [
    "import numpy as np"
   ]
  },
  {
   "cell_type": "code",
   "execution_count": 2,
   "metadata": {},
   "outputs": [],
   "source": [
    "my_matrix = [[1,2,3], [4,5,6], [7,8,9]]"
   ]
  },
  {
   "cell_type": "code",
   "execution_count": 5,
   "metadata": {},
   "outputs": [
    {
     "data": {
      "text/plain": [
       "array([[1, 2, 3],\n",
       "       [4, 5, 6],\n",
       "       [7, 8, 9]])"
      ]
     },
     "execution_count": 5,
     "metadata": {},
     "output_type": "execute_result"
    }
   ],
   "source": [
    "np.array(my_matrix)"
   ]
  },
  {
   "cell_type": "code",
   "execution_count": 6,
   "metadata": {},
   "outputs": [
    {
     "data": {
      "text/plain": [
       "(3, 3)"
      ]
     },
     "execution_count": 6,
     "metadata": {},
     "output_type": "execute_result"
    }
   ],
   "source": [
    "np.shape(my_matrix)"
   ]
  },
  {
   "cell_type": "code",
   "execution_count": 14,
   "metadata": {},
   "outputs": [
    {
     "data": {
      "text/plain": [
       "array([[1, 2, 3],\n",
       "       [4, 5, 6],\n",
       "       [7, 8, 9]])"
      ]
     },
     "execution_count": 14,
     "metadata": {},
     "output_type": "execute_result"
    }
   ],
   "source": [
    "np.reshape(my_matrix,(3,3))"
   ]
  },
  {
   "cell_type": "code",
   "execution_count": 29,
   "metadata": {},
   "outputs": [
    {
     "data": {
      "text/plain": [
       "array([[ 1,  2],\n",
       "       [ 3,  4],\n",
       "       [ 5,  6],\n",
       "       [ 7,  8],\n",
       "       [ 9, 10]])"
      ]
     },
     "execution_count": 29,
     "metadata": {},
     "output_type": "execute_result"
    }
   ],
   "source": [
    "np.arange(1,11,1).reshape(5,2)"
   ]
  },
  {
   "cell_type": "code",
   "execution_count": 30,
   "metadata": {},
   "outputs": [
    {
     "data": {
      "text/plain": [
       "array([[ True,  True,  True,  True],\n",
       "       [ True,  True,  True,  True],\n",
       "       [ True,  True,  True,  True],\n",
       "       [ True,  True,  True,  True]])"
      ]
     },
     "execution_count": 30,
     "metadata": {},
     "output_type": "execute_result"
    }
   ],
   "source": [
    "np.ones((4,4), dtype = bool)"
   ]
  },
  {
   "cell_type": "markdown",
   "metadata": {},
   "source": [
    "**`Full`**"
   ]
  },
  {
   "cell_type": "code",
   "execution_count": 32,
   "metadata": {},
   "outputs": [
    {
     "data": {
      "text/plain": [
       "array([['3', '3', '3', '3', '3'],\n",
       "       ['3', '3', '3', '3', '3'],\n",
       "       ['3', '3', '3', '3', '3']], dtype='<U1')"
      ]
     },
     "execution_count": 32,
     "metadata": {},
     "output_type": "execute_result"
    }
   ],
   "source": [
    "np.full((3,5), \"3\")"
   ]
  },
  {
   "cell_type": "markdown",
   "metadata": {},
   "source": [
    "**`Linspace`**"
   ]
  },
  {
   "cell_type": "code",
   "execution_count": 34,
   "metadata": {},
   "outputs": [
    {
     "data": {
      "text/plain": [
       "array([ 0.,  5., 10.])"
      ]
     },
     "execution_count": 34,
     "metadata": {},
     "output_type": "execute_result"
    }
   ],
   "source": [
    "np.linspace(0,10,3)"
   ]
  },
  {
   "cell_type": "code",
   "execution_count": 35,
   "metadata": {},
   "outputs": [
    {
     "data": {
      "text/plain": [
       "array([ 0.        ,  0.20408163,  0.40816327,  0.6122449 ,  0.81632653,\n",
       "        1.02040816,  1.2244898 ,  1.42857143,  1.63265306,  1.83673469,\n",
       "        2.04081633,  2.24489796,  2.44897959,  2.65306122,  2.85714286,\n",
       "        3.06122449,  3.26530612,  3.46938776,  3.67346939,  3.87755102,\n",
       "        4.08163265,  4.28571429,  4.48979592,  4.69387755,  4.89795918,\n",
       "        5.10204082,  5.30612245,  5.51020408,  5.71428571,  5.91836735,\n",
       "        6.12244898,  6.32653061,  6.53061224,  6.73469388,  6.93877551,\n",
       "        7.14285714,  7.34693878,  7.55102041,  7.75510204,  7.95918367,\n",
       "        8.16326531,  8.36734694,  8.57142857,  8.7755102 ,  8.97959184,\n",
       "        9.18367347,  9.3877551 ,  9.59183673,  9.79591837, 10.        ])"
      ]
     },
     "execution_count": 35,
     "metadata": {},
     "output_type": "execute_result"
    }
   ],
   "source": [
    "np.linspace(0,10,50)"
   ]
  },
  {
   "cell_type": "code",
   "execution_count": 38,
   "metadata": {},
   "outputs": [
    {
     "data": {
      "text/plain": [
       "array([ 0.        ,  0.20408163,  0.40816327,  0.6122449 ,  0.81632653,\n",
       "        1.02040816,  1.2244898 ,  1.42857143,  1.63265306,  1.83673469,\n",
       "        2.04081633,  2.24489796,  2.44897959,  2.65306122,  2.85714286,\n",
       "        3.06122449,  3.26530612,  3.46938776,  3.67346939,  3.87755102,\n",
       "        4.08163265,  4.28571429,  4.48979592,  4.69387755,  4.89795918,\n",
       "        5.10204082,  5.30612245,  5.51020408,  5.71428571,  5.91836735,\n",
       "        6.12244898,  6.32653061,  6.53061224,  6.73469388,  6.93877551,\n",
       "        7.14285714,  7.34693878,  7.55102041,  7.75510204,  7.95918367,\n",
       "        8.16326531,  8.36734694,  8.57142857,  8.7755102 ,  8.97959184,\n",
       "        9.18367347,  9.3877551 ,  9.59183673,  9.79591837, 10.        ])"
      ]
     },
     "execution_count": 38,
     "metadata": {},
     "output_type": "execute_result"
    }
   ],
   "source": [
    "np.linspace(0,10)"
   ]
  },
  {
   "cell_type": "code",
   "execution_count": 45,
   "metadata": {},
   "outputs": [
    {
     "data": {
      "text/plain": [
       "array([[123, 256,  21,  17,  87, 392, 228,  67, 229, 425],\n",
       "       [210, 323, 234, 348, 268, 310,  47, 143,  36, 305],\n",
       "       [448,  26, 119, 334, 247, 319, 115, 395, 319, 466],\n",
       "       [247, 155, 209, 194, 273, 239, 458, 147, 284,  72],\n",
       "       [ 51, 251, 408, 465, 368, 272, 224,  13,  45, 101],\n",
       "       [233, 150, 337,   9,  45, 247, 339,  87,  72, 490],\n",
       "       [ 43,  91,  39, 246,  16,  11, 193, 228, 476, 421],\n",
       "       [ 33, 324, 451, 191, 262,  25, 189, 468, 143, 409],\n",
       "       [ 86, 147, 240, 118, 479, 344, 488, 142, 476, 342],\n",
       "       [412, 419, 304,  66, 276, 442, 227, 314, 242, 271],\n",
       "       [158,   9, 166,  53, 369, 425, 228, 196, 356, 484],\n",
       "       [409, 350,  25,   5, 462, 256, 150, 335, 271, 447],\n",
       "       [446,  41, 492, 299, 410,  32, 227, 305, 486, 131],\n",
       "       [ 69, 326, 199, 336, 439, 313, 119, 444, 441, 449],\n",
       "       [438,  84, 439, 424, 160,  55, 297, 329, 139, 221],\n",
       "       [186,  25, 289, 326, 437, 220, 337, 328,  59, 331],\n",
       "       [379, 389, 439,   0, 317, 161, 355, 160,   5,  64],\n",
       "       [395, 202,  41, 257, 481,  28, 297,  82, 287, 222],\n",
       "       [153, 209, 150, 179,  12, 337, 225,   2, 238, 110],\n",
       "       [ 36, 433, 198,  93, 327,  64, 432, 173,  71, 489],\n",
       "       [414, 211,  28,  25, 263, 496,  34, 181, 318, 443],\n",
       "       [377,  69, 336, 175, 331, 285, 204, 443, 178, 268],\n",
       "       [324,  24,  89, 374, 236, 381, 432, 371, 404, 477],\n",
       "       [253, 199, 143, 449, 398, 115, 251, 312, 130, 268],\n",
       "       [216,   9, 416, 286, 438, 322, 444, 179, 478, 481],\n",
       "       [411, 312,  39, 241, 462,  32, 147,  13, 353, 319],\n",
       "       [466, 269, 113, 115, 201, 234,  82, 213, 179, 318],\n",
       "       [397,  43, 213, 328, 388,  87,  92, 343,  25, 402],\n",
       "       [316, 486,  61, 447, 391, 164,  20, 279, 401, 397],\n",
       "       [257,  97, 100, 182,  57, 285, 303, 387, 226, 291],\n",
       "       [242, 399, 281,  78, 195, 424,  39, 224, 297, 132],\n",
       "       [147, 166, 115, 158,  19, 127, 478,  46,  80, 424],\n",
       "       [319,  44, 153, 114,  56, 401, 347, 299, 109, 214],\n",
       "       [ 62, 160, 256, 182,  58, 203,  19, 177, 168, 358],\n",
       "       [210, 106, 231, 271, 276,  14, 340, 148,  55, 176],\n",
       "       [ 80,  75, 477, 216, 449, 254, 421, 431,   8, 157],\n",
       "       [168, 195, 495, 168, 196, 461,  59,  52, 330, 398],\n",
       "       [ 52, 113, 137, 471, 174, 167, 249,  56,  42, 249],\n",
       "       [155, 212, 423,   1, 378, 303, 327, 251, 300, 305],\n",
       "       [248, 101, 190, 291, 379, 387, 299,  10, 156, 189],\n",
       "       [311, 220, 115, 171, 462,  14,  38, 155, 165, 243],\n",
       "       [ 27, 487, 352, 178, 163, 409, 446, 344, 435, 237],\n",
       "       [351, 133,   5,  37, 406,  93, 176, 267, 318,  48],\n",
       "       [149,  25, 425,  60, 104, 330, 381, 420,  71,   4],\n",
       "       [366, 375, 364,  12,  21, 443, 449, 358, 339, 221],\n",
       "       [ 52, 302, 191, 278,  72, 117, 427, 281, 333, 112],\n",
       "       [117, 216, 396,  18, 398, 362, 387,  18, 140, 106],\n",
       "       [443, 414,  84, 347, 312, 337, 324, 345, 290,   7],\n",
       "       [174,  77,  96, 132,  77, 177,  55,  21, 125, 128],\n",
       "       [ 60,  97, 473, 293,   5, 191, 442, 190, 281, 292]])"
      ]
     },
     "execution_count": 45,
     "metadata": {},
     "output_type": "execute_result"
    }
   ],
   "source": [
    "np.random.randint(0,500,(50,10))"
   ]
  },
  {
   "cell_type": "code",
   "execution_count": 17,
   "metadata": {},
   "outputs": [
    {
     "data": {
      "text/plain": [
       "array([[ 2, 35, 31],\n",
       "       [ 2, 15, 11],\n",
       "       [ 1, 44, 29],\n",
       "       [ 1,  5, 98],\n",
       "       [ 2, 25, 29]])"
      ]
     },
     "execution_count": 17,
     "metadata": {},
     "output_type": "execute_result"
    }
   ],
   "source": [
    "np.random.randint(1,[3, 50, 100], size = (5, 3))"
   ]
  },
  {
   "cell_type": "code",
   "execution_count": 30,
   "metadata": {},
   "outputs": [],
   "source": [
    "m = np.arange(20).reshape(5,4)"
   ]
  },
  {
   "cell_type": "code",
   "execution_count": 31,
   "metadata": {},
   "outputs": [
    {
     "data": {
      "text/plain": [
       "array([[ 0,  1,  2,  3],\n",
       "       [ 4,  5,  6,  7],\n",
       "       [ 8,  9, 10, 11],\n",
       "       [12, 13, 14, 15],\n",
       "       [16, 17, 18, 19]])"
      ]
     },
     "execution_count": 31,
     "metadata": {},
     "output_type": "execute_result"
    }
   ],
   "source": [
    "m"
   ]
  },
  {
   "cell_type": "code",
   "execution_count": 32,
   "metadata": {},
   "outputs": [
    {
     "data": {
      "text/plain": [
       "[array([[0, 1, 2, 3]]),\n",
       " array([[ 4,  5,  6,  7],\n",
       "        [ 8,  9, 10, 11]]),\n",
       " array([[12, 13, 14, 15],\n",
       "        [16, 17, 18, 19]])]"
      ]
     },
     "execution_count": 32,
     "metadata": {},
     "output_type": "execute_result"
    }
   ],
   "source": [
    "np.vsplit(m, [1,3])  # splits array into vertical sub arrays"
   ]
  },
  {
   "cell_type": "markdown",
   "metadata": {},
   "source": [
    "**2d Matrix**"
   ]
  },
  {
   "cell_type": "code",
   "execution_count": 35,
   "metadata": {},
   "outputs": [
    {
     "data": {
      "text/plain": [
       "array([[98, 44, 83],\n",
       "       [35, 57, 98],\n",
       "       [ 7, 33,  9]])"
      ]
     },
     "execution_count": 35,
     "metadata": {},
     "output_type": "execute_result"
    }
   ],
   "source": [
    "twoD = np.random.randint(5,100,(3,3))\n",
    "\n",
    "twoD"
   ]
  },
  {
   "cell_type": "code",
   "execution_count": 37,
   "metadata": {},
   "outputs": [
    {
     "data": {
      "text/plain": [
       "array([[44, 83, 98],\n",
       "       [35, 57, 98],\n",
       "       [ 7,  9, 33]])"
      ]
     },
     "execution_count": 37,
     "metadata": {},
     "output_type": "execute_result"
    }
   ],
   "source": [
    "np.sort(twoD, axis = 1)"
   ]
  },
  {
   "cell_type": "code",
   "execution_count": 40,
   "metadata": {},
   "outputs": [
    {
     "data": {
      "text/plain": [
       "array([[ 7, 33,  9],\n",
       "       [35, 44, 83],\n",
       "       [98, 57, 98]])"
      ]
     },
     "execution_count": 40,
     "metadata": {},
     "output_type": "execute_result"
    }
   ],
   "source": [
    "np.sort(twoD, axis = 0)"
   ]
  },
  {
   "cell_type": "code",
   "execution_count": null,
   "metadata": {},
   "outputs": [],
   "source": []
  }
 ],
 "metadata": {
  "kernelspec": {
   "display_name": "Python 3",
   "language": "python",
   "name": "python3"
  },
  "language_info": {
   "codemirror_mode": {
    "name": "ipython",
    "version": 3
   },
   "file_extension": ".py",
   "mimetype": "text/x-python",
   "name": "python",
   "nbconvert_exporter": "python",
   "pygments_lexer": "ipython3",
   "version": "3.7.6"
  }
 },
 "nbformat": 4,
 "nbformat_minor": 4
}
