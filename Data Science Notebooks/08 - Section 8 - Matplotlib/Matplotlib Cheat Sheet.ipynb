{
 "cells": [
  {
   "cell_type": "markdown",
   "metadata": {},
   "source": [
    "# Matplotlib"
   ]
  },
  {
   "cell_type": "markdown",
   "metadata": {},
   "source": [
    "Importing"
   ]
  },
  {
   "cell_type": "code",
   "execution_count": null,
   "metadata": {},
   "outputs": [],
   "source": [
    "import matplotlib.pyplot as plt\n",
    "\n",
    "%matplotlib inline \n",
    "\n",
    "import numpy as np"
   ]
  },
  {
   "cell_type": "markdown",
   "metadata": {},
   "source": [
    "Functional Method:"
   ]
  },
  {
   "cell_type": "code",
   "execution_count": null,
   "metadata": {},
   "outputs": [],
   "source": [
    "plt.plot(x,y)  # creates a plot using data\n",
    "\n",
    "plt.xlabel('x label')  # sets x label\n",
    "plt.ylabel('y label')  # sets y label\n",
    "plt.title('title')  # sets title of plot\n",
    "\n",
    "plt.subplot(nrows, ncols, index)  # creates a subplot\n",
    "plt.plot(x,y,color)  # plots the subplot"
   ]
  },
  {
   "cell_type": "markdown",
   "metadata": {},
   "source": [
    "Object Oriented Method (Manually setting up axes)"
   ]
  },
  {
   "cell_type": "code",
   "execution_count": null,
   "metadata": {},
   "outputs": [],
   "source": [
    "# Object Oriented [plt.fig --> fig --> axes -- axes.[method]]\n",
    "\n",
    "fig = plt.figure()  # creates object, the object is like a blank canvas, its called 'fig' here\n",
    "\n",
    "axes = fig.add_axes([0.1,0.1,0.8,0.8])  # manually add axes and location and size [left, bottom, width, height])\n",
    "\n",
    "axes.plot(x,y)  # creates a plot\n",
    "\n",
    "axes.set_xlabel('X Label')\n",
    "axes.set_ylabel('Y Label')\n",
    "axes.set_title('Title')"
   ]
  },
  {
   "cell_type": "markdown",
   "metadata": {},
   "source": [
    "Setting axes automatically and creating subplots in arrays to be indexed"
   ]
  },
  {
   "cell_type": "code",
   "execution_count": null,
   "metadata": {},
   "outputs": [],
   "source": [
    "fig,axes = plt.subplots(nrows=,ncols=)  # creaes an array of subplots based on nrows & ncols and *automatically* sets axes\n",
    "\n",
    "axes[0].plot(x,y)  # puts in datapoints in index 0 plot\n",
    "\n",
    "axes[0].set_title('First Plot')\n",
    "\n",
    "axes[1].plot(y,x)  # puts in datapoints in index 1 plot\n",
    "\n",
    "axes[1].set_title('Second Plot')\n",
    "\n",
    "plt.tight_layout()  # sets plots up so there is no overlap"
   ]
  },
  {
   "cell_type": "markdown",
   "metadata": {},
   "source": [
    "Figure Size and DPI"
   ]
  },
  {
   "cell_type": "code",
   "execution_count": null,
   "metadata": {},
   "outputs": [],
   "source": [
    "fig = plt.figure(figsize=(5,5))  # creates 5x5 inches plot (dimensions)\n",
    "\n",
    "fig = plt.figure(figsize=(5,5), dpi=100)  # scales plot using DPI value (scale)"
   ]
  },
  {
   "cell_type": "markdown",
   "metadata": {},
   "source": [
    "Saving a Figure"
   ]
  },
  {
   "cell_type": "code",
   "execution_count": null,
   "metadata": {},
   "outputs": [],
   "source": [
    "fig.savefig('filepath\\\\my_plot.(png/gif/etc)')  # save plot as whatever file type you want"
   ]
  },
  {
   "cell_type": "markdown",
   "metadata": {},
   "source": [
    "Adding a Legend"
   ]
  },
  {
   "cell_type": "code",
   "execution_count": null,
   "metadata": {},
   "outputs": [],
   "source": [
    "fig = plt.figure()\n",
    "\n",
    "ax = fig.add_axes([0,0,1,1])\n",
    "\n",
    "ax.plot(x,x**2,label='label1')  # need labels for legend\n",
    "ax.plot(x,x**3,label='label2')\n",
    "\n",
    "ax.legend(loc=0)  # establish legend and set legend location using loc "
   ]
  },
  {
   "cell_type": "markdown",
   "metadata": {},
   "source": [
    "Customization"
   ]
  },
  {
   "cell_type": "code",
   "execution_count": null,
   "metadata": {},
   "outputs": [],
   "source": [
    "fig = plt.figure()\n",
    "\n",
    "ax = fig.add_axes([0,0,1,1])\n",
    "\n",
    "# -------------------------\n",
    "\n",
    "ax.plot(x,y)  # regular graph with default values\n",
    "\n",
    "ax.plot(x,y,color='')  # adds color, insert name or hex code\n",
    "\n",
    "ax.plot(x,y,alpha=0.5)  # sets line opacity/transparency\n",
    "\n",
    "ax.plot(x,y,lw=1)  # sets line width/thickness\n",
    "\n",
    "ax.plot(x,y,linestyle/ls='--')  # sets line style, values = '--',':','steps','-.','-'(default)\n",
    "\n",
    "ax.plot(x,y,marker='o')  # puts markers where values are on the line\n",
    "\n",
    "ax.plot(x,y,marker='o',markersize=10,markerfacecolor='yellow',markeredgewidth=2,markeredgecolor='gray')\n",
    "\n",
    "ax.set_xlim([0,3])  # sets x interval\n",
    "\n",
    "ax.set_ylim([0,2])  # sets y interval"
   ]
  }
 ],
 "metadata": {
  "kernelspec": {
   "display_name": "Python 3",
   "language": "python",
   "name": "python3"
  },
  "language_info": {
   "codemirror_mode": {
    "name": "ipython",
    "version": 3
   },
   "file_extension": ".py",
   "mimetype": "text/x-python",
   "name": "python",
   "nbconvert_exporter": "python",
   "pygments_lexer": "ipython3",
   "version": "3.7.6"
  }
 },
 "nbformat": 4,
 "nbformat_minor": 4
}
