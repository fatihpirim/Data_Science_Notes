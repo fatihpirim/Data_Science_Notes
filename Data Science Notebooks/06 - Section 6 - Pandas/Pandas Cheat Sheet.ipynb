{
 "cells": [
  {
   "cell_type": "markdown",
   "metadata": {},
   "source": [
    "# DataFrames - Part 1"
   ]
  },
  {
   "cell_type": "markdown",
   "metadata": {},
   "source": [
    "---"
   ]
  },
  {
   "cell_type": "code",
   "execution_count": null,
   "metadata": {},
   "outputs": [],
   "source": [
    "df = pd.DataFrame(randn(rows,columns),[rowindex],[columnindex])  # creates a dataframe rowXcolumn of randomly distributed nums\n",
    "\n",
    "df[index]  # shows the pandas series in the column\n",
    "\n",
    "df[[index]]  # shows the data in the column\n",
    "\n",
    "df[[indexA,indexB]]  # shows multiple columns\n",
    "\n",
    "df[newindex] = df[indexA] + df[indexB]  # creates new column with newindex\n",
    "\n",
    "df.loc['index']  # shows the row at index\n",
    "\n",
    "df.loc['B','Y'] # shows data at row=B,colum=Y\n",
    "\n",
    "df.loc[['row1','row2'],['column1','column2']]  # indexes row and columns\n",
    "\n",
    "df.iloc[number]  # indexes row by number\n",
    "\n",
    "df.drop(column/row,axis=1/0,inplace=True/False)  # drops column/row (define axis), inplace defines if permanent drop or not\n"
   ]
  },
  {
   "cell_type": "markdown",
   "metadata": {},
   "source": [
    "---"
   ]
  },
  {
   "cell_type": "markdown",
   "metadata": {},
   "source": [
    "# DataFrames - Part 2"
   ]
  },
  {
   "cell_type": "markdown",
   "metadata": {},
   "source": [
    "---"
   ]
  },
  {
   "cell_type": "code",
   "execution_count": null,
   "metadata": {},
   "outputs": [],
   "source": [
    "df[booldf]  # show where boolean is true in dataframe\n",
    "\n",
    "df[(df['W']>0) & (df['Y']>1)]  # show where data in colum W is more than 0 AND data in colum Y is more than 1\n",
    "\n",
    "df[(df['W']>0) | (df['Y']>1)]  # show where data in colum W is more than 0 OR data in colum Y is more than 1\n",
    "\n",
    "df.reset_index()  # makes index default 0,1,2,3,4; must be in place for permanent change\n",
    "\n",
    "df.set_index('title') = listA  # sets index with title and assigns items in list in order of index to the dataframe\n",
    "\n",
    "mylist = '1 2 3 4 5'.split()  # returns list and seperates elements by whitespace\n"
   ]
  },
  {
   "cell_type": "markdown",
   "metadata": {},
   "source": [
    "---"
   ]
  },
  {
   "cell_type": "markdown",
   "metadata": {},
   "source": [
    "# DataFrames - Part 3"
   ]
  },
  {
   "cell_type": "markdown",
   "metadata": {},
   "source": [
    "---"
   ]
  },
  {
   "cell_type": "code",
   "execution_count": null,
   "metadata": {},
   "outputs": [],
   "source": [
    "df.loc[rowLevelONE].loc[[rowLevelTWO]]  # selecting multi level index\n",
    "\n",
    "df.loc[rowLevelONE].loc[[rowLevelTWO]][column]  # selecting specficic value in multi level dataframe\n",
    "\n",
    "df.xs(indexValue,level='columnTitle')  # (cross section) selecting the rows in column where index is [indexValue]\n"
   ]
  },
  {
   "cell_type": "markdown",
   "metadata": {},
   "source": [
    "---"
   ]
  },
  {
   "cell_type": "markdown",
   "metadata": {},
   "source": [
    "# Missing Data"
   ]
  },
  {
   "cell_type": "markdown",
   "metadata": {},
   "source": [
    "---"
   ]
  },
  {
   "cell_type": "code",
   "execution_count": null,
   "metadata": {},
   "outputs": [],
   "source": [
    "df.dropna()  # drops row(s) with any amount of null value(s)\n",
    "\n",
    "df.dropna(axis=1)  # drops column(s) with any amount of null value(s)\n",
    "\n",
    "df.dropna(thresh=2)  # drops row from specified threshold, if at least 2 in row it is dropped\n",
    "\n",
    "df.fillna(value='FILL VALUE')  # replaces null value with string\n",
    "\n",
    "df.fillna(value=df['A'].mean())  # replaces null vlaues with the mean of the column\n"
   ]
  },
  {
   "cell_type": "markdown",
   "metadata": {},
   "source": [
    "---"
   ]
  },
  {
   "cell_type": "markdown",
   "metadata": {},
   "source": [
    "# Groupby"
   ]
  },
  {
   "cell_type": "markdown",
   "metadata": {},
   "source": [
    "---"
   ]
  },
  {
   "cell_type": "code",
   "execution_count": null,
   "metadata": {},
   "outputs": [],
   "source": [
    "variable = df.groupby('Index')  # assign the index to a variable so you can preform actions on it\n",
    "\n",
    "variable.mean()  # finds the mean of numerical values, skips strings\n",
    "\n",
    "variable.sum()  # sums all numerical values in index\n",
    "\n",
    "variable.std()  # finds standard deviation\n",
    "\n",
    "df.groupby('index').sum().loc['subindex']  # find sum of specific level of index\n",
    "\n",
    "df.groupby('index').describe()  # gives a bunch of statistical data on index\n",
    "\n",
    "df.groupby('index').describe().transpose()[['subindex']]  # gives a bunch of statistical data on subindex\n"
   ]
  },
  {
   "cell_type": "markdown",
   "metadata": {},
   "source": [
    "---"
   ]
  },
  {
   "cell_type": "markdown",
   "metadata": {},
   "source": [
    "# Merging Joining and Concatenating"
   ]
  },
  {
   "cell_type": "markdown",
   "metadata": {},
   "source": [
    "---"
   ]
  },
  {
   "cell_type": "code",
   "execution_count": null,
   "metadata": {},
   "outputs": [],
   "source": [
    "pd.concat([dataframe1,dataframe2])  # concatenation glues together dataframes, list of df's are passed\n",
    "\n",
    "pd.merge(df1,df2,on='key')  # merges dataframes according to column key\n",
    "\n",
    "leftDF.join(rightDF)  # joins left and right dataframe based on index key\n"
   ]
  },
  {
   "cell_type": "markdown",
   "metadata": {},
   "source": [
    "---"
   ]
  },
  {
   "cell_type": "markdown",
   "metadata": {},
   "source": [
    "# Operations"
   ]
  },
  {
   "cell_type": "markdown",
   "metadata": {},
   "source": [
    "---"
   ]
  },
  {
   "cell_type": "code",
   "execution_count": null,
   "metadata": {},
   "outputs": [],
   "source": [
    "df.['column'].unique  # shows us all unique values in column\n",
    "\n",
    "df['column'].nunique()  # shows number of unique values in column\n",
    "\n",
    "df['column'].value_counts()  # shows count of different values in column \n",
    "\n",
    "df['column'].apply(function/lambdafunc/built-infunction)  # applies function to column\n",
    "\n",
    "df.columns  # shows all column titles\n",
    "\n",
    "df.index  # shows the indexes\n",
    "\n",
    "df.sort_values(by='column')  # sorts values according to column\n",
    "\n",
    "df.isnull()  # returns true or false depending on if value is null\n",
    "\n",
    "df.pivot_table(values='D',index=['A','B'],columns='C')  # creates pivot table (example)\n"
   ]
  },
  {
   "cell_type": "markdown",
   "metadata": {},
   "source": [
    "---"
   ]
  },
  {
   "cell_type": "markdown",
   "metadata": {},
   "source": [
    "# Data Input and Output"
   ]
  },
  {
   "cell_type": "markdown",
   "metadata": {},
   "source": [
    "---"
   ]
  },
  {
   "cell_type": "code",
   "execution_count": 1,
   "metadata": {},
   "outputs": [],
   "source": [
    "df = pd.read_csv('file')  # csv input\n",
    "\n",
    "df.to_csv('file',index=False)  # csv output\n",
    "\n",
    "pd.read_excel('file',sheet_name='Sheet1')  # excel input\n",
    "\n",
    "df.to_excel('file',sheet_name='Sheet1')  # excel output\n",
    "\n",
    "# HTML Libraries\n",
    "\n",
    "conda install lxml\n",
    "conda install html5lib\n",
    "conda install BeautifulSoup4\n",
    "\n",
    "df = pd.read_html('website.html')  # html input\n",
    "\n",
    "# SQL Library\n",
    "\n",
    "from sqlalchemy import create_engine\n",
    "\n",
    "engine = create_engine('sqlite:///:memory:')\n",
    "\n",
    "df.to_sql('data', engine)\n",
    "\n",
    "sql_df = pd.read_sql('data',con=engine)"
   ]
  },
  {
   "cell_type": "markdown",
   "metadata": {},
   "source": [
    "---"
   ]
  },
  {
   "cell_type": "code",
   "execution_count": null,
   "metadata": {},
   "outputs": [],
   "source": []
  }
 ],
 "metadata": {
  "kernelspec": {
   "display_name": "Python 3",
   "language": "python",
   "name": "python3"
  },
  "language_info": {
   "codemirror_mode": {
    "name": "ipython",
    "version": 3
   },
   "file_extension": ".py",
   "mimetype": "text/x-python",
   "name": "python",
   "nbconvert_exporter": "python",
   "pygments_lexer": "ipython3",
   "version": "3.7.6"
  }
 },
 "nbformat": 4,
 "nbformat_minor": 4
}
